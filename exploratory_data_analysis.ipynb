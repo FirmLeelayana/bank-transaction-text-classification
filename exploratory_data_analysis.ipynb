{
 "cells": [
  {
   "cell_type": "markdown",
   "metadata": {},
   "source": [
    "Exploratory Data Analysis of the Dataset"
   ]
  },
  {
   "cell_type": "code",
   "execution_count": 30,
   "metadata": {},
   "outputs": [],
   "source": [
    "import pandas as pd \n",
    "import numpy as np\n",
    "import matplotlib.pyplot as plt\n",
    "\n",
    "%matplotlib inline\n",
    "\n",
    "#loading in the data using pandas\n",
    "data_feat = pd.read_csv(\"bank_transaction_features.csv\") \n",
    "data_label = pd.read_csv(\"bank_transaction_labels.csv\") "
   ]
  },
  {
   "cell_type": "code",
   "execution_count": 5,
   "metadata": {},
   "outputs": [
    {
     "data": {
      "text/html": [
       "<div>\n",
       "<style scoped>\n",
       "    .dataframe tbody tr th:only-of-type {\n",
       "        vertical-align: middle;\n",
       "    }\n",
       "\n",
       "    .dataframe tbody tr th {\n",
       "        vertical-align: top;\n",
       "    }\n",
       "\n",
       "    .dataframe thead th {\n",
       "        text-align: right;\n",
       "    }\n",
       "</style>\n",
       "<table border=\"1\" class=\"dataframe\">\n",
       "  <thead>\n",
       "    <tr style=\"text-align: right;\">\n",
       "      <th></th>\n",
       "      <th>bank_transaction_id</th>\n",
       "      <th>bank_transaction_description</th>\n",
       "      <th>bank_transaction_amount</th>\n",
       "      <th>bank_transaction_type</th>\n",
       "    </tr>\n",
       "  </thead>\n",
       "  <tbody>\n",
       "    <tr>\n",
       "      <th>0</th>\n",
       "      <td>21786195</td>\n",
       "      <td>citylink</td>\n",
       "      <td>-13.80</td>\n",
       "      <td>MPO</td>\n",
       "    </tr>\n",
       "    <tr>\n",
       "      <th>1</th>\n",
       "      <td>21786196</td>\n",
       "      <td>citylink</td>\n",
       "      <td>-13.14</td>\n",
       "      <td>DEB</td>\n",
       "    </tr>\n",
       "    <tr>\n",
       "      <th>2</th>\n",
       "      <td>21786197</td>\n",
       "      <td>1Jul19 OYSTER</td>\n",
       "      <td>-36.98</td>\n",
       "      <td>DEB</td>\n",
       "    </tr>\n",
       "    <tr>\n",
       "      <th>3</th>\n",
       "      <td>21786198</td>\n",
       "      <td>travelodge</td>\n",
       "      <td>-75.73</td>\n",
       "      <td>MPO</td>\n",
       "    </tr>\n",
       "    <tr>\n",
       "      <th>4</th>\n",
       "      <td>21786199</td>\n",
       "      <td>6Jul19 RINGGO</td>\n",
       "      <td>-37.86</td>\n",
       "      <td>CSH</td>\n",
       "    </tr>\n",
       "    <tr>\n",
       "      <th>5</th>\n",
       "      <td>21786200</td>\n",
       "      <td>SUNDRY DEBIT CONTACTLESS CAMDEN PARKING</td>\n",
       "      <td>-34.79</td>\n",
       "      <td>DEB</td>\n",
       "    </tr>\n",
       "    <tr>\n",
       "      <th>6</th>\n",
       "      <td>21786201</td>\n",
       "      <td>stgcoach</td>\n",
       "      <td>-7.26</td>\n",
       "      <td>DEB</td>\n",
       "    </tr>\n",
       "    <tr>\n",
       "      <th>7</th>\n",
       "      <td>21786202</td>\n",
       "      <td>trainline</td>\n",
       "      <td>-26.71</td>\n",
       "      <td>DEB</td>\n",
       "    </tr>\n",
       "    <tr>\n",
       "      <th>8</th>\n",
       "      <td>21786203</td>\n",
       "      <td>Fin: CMT UK LTD  Cash at Transact</td>\n",
       "      <td>-36.25</td>\n",
       "      <td>CSH</td>\n",
       "    </tr>\n",
       "    <tr>\n",
       "      <th>9</th>\n",
       "      <td>21786204</td>\n",
       "      <td>OYSTER</td>\n",
       "      <td>-21.80</td>\n",
       "      <td>DEB</td>\n",
       "    </tr>\n",
       "  </tbody>\n",
       "</table>\n",
       "</div>"
      ],
      "text/plain": [
       "   bank_transaction_id             bank_transaction_description  \\\n",
       "0             21786195                                 citylink   \n",
       "1             21786196                                 citylink   \n",
       "2             21786197                            1Jul19 OYSTER   \n",
       "3             21786198                               travelodge   \n",
       "4             21786199                            6Jul19 RINGGO   \n",
       "5             21786200  SUNDRY DEBIT CONTACTLESS CAMDEN PARKING   \n",
       "6             21786201                                 stgcoach   \n",
       "7             21786202                                trainline   \n",
       "8             21786203        Fin: CMT UK LTD  Cash at Transact   \n",
       "9             21786204                                   OYSTER   \n",
       "\n",
       "   bank_transaction_amount bank_transaction_type  \n",
       "0                   -13.80                   MPO  \n",
       "1                   -13.14                   DEB  \n",
       "2                   -36.98                   DEB  \n",
       "3                   -75.73                   MPO  \n",
       "4                   -37.86                   CSH  \n",
       "5                   -34.79                   DEB  \n",
       "6                    -7.26                   DEB  \n",
       "7                   -26.71                   DEB  \n",
       "8                   -36.25                   CSH  \n",
       "9                   -21.80                   DEB  "
      ]
     },
     "execution_count": 5,
     "metadata": {},
     "output_type": "execute_result"
    }
   ],
   "source": [
    "data_feat.head(10) #Displaying the first 10 rows"
   ]
  },
  {
   "cell_type": "code",
   "execution_count": 6,
   "metadata": {},
   "outputs": [
    {
     "data": {
      "text/html": [
       "<div>\n",
       "<style scoped>\n",
       "    .dataframe tbody tr th:only-of-type {\n",
       "        vertical-align: middle;\n",
       "    }\n",
       "\n",
       "    .dataframe tbody tr th {\n",
       "        vertical-align: top;\n",
       "    }\n",
       "\n",
       "    .dataframe thead th {\n",
       "        text-align: right;\n",
       "    }\n",
       "</style>\n",
       "<table border=\"1\" class=\"dataframe\">\n",
       "  <thead>\n",
       "    <tr style=\"text-align: right;\">\n",
       "      <th></th>\n",
       "      <th>bank_transaction_id</th>\n",
       "      <th>bank_transaction_category</th>\n",
       "      <th>bank_transaction_dataset</th>\n",
       "    </tr>\n",
       "  </thead>\n",
       "  <tbody>\n",
       "    <tr>\n",
       "      <th>0</th>\n",
       "      <td>21786195</td>\n",
       "      <td>TRAVEL</td>\n",
       "      <td>TRAIN</td>\n",
       "    </tr>\n",
       "    <tr>\n",
       "      <th>1</th>\n",
       "      <td>21786196</td>\n",
       "      <td>TRAVEL</td>\n",
       "      <td>TRAIN</td>\n",
       "    </tr>\n",
       "    <tr>\n",
       "      <th>2</th>\n",
       "      <td>21786197</td>\n",
       "      <td>TRAVEL</td>\n",
       "      <td>TRAIN</td>\n",
       "    </tr>\n",
       "    <tr>\n",
       "      <th>3</th>\n",
       "      <td>21786198</td>\n",
       "      <td>TRAVEL</td>\n",
       "      <td>TRAIN</td>\n",
       "    </tr>\n",
       "    <tr>\n",
       "      <th>4</th>\n",
       "      <td>21786199</td>\n",
       "      <td>TRAVEL</td>\n",
       "      <td>TRAIN</td>\n",
       "    </tr>\n",
       "    <tr>\n",
       "      <th>5</th>\n",
       "      <td>21786200</td>\n",
       "      <td>TRAVEL</td>\n",
       "      <td>TRAIN</td>\n",
       "    </tr>\n",
       "    <tr>\n",
       "      <th>6</th>\n",
       "      <td>21786201</td>\n",
       "      <td>TRAVEL</td>\n",
       "      <td>TRAIN</td>\n",
       "    </tr>\n",
       "    <tr>\n",
       "      <th>7</th>\n",
       "      <td>21786202</td>\n",
       "      <td>TRAVEL</td>\n",
       "      <td>TRAIN</td>\n",
       "    </tr>\n",
       "    <tr>\n",
       "      <th>8</th>\n",
       "      <td>21786203</td>\n",
       "      <td>TRAVEL</td>\n",
       "      <td>TRAIN</td>\n",
       "    </tr>\n",
       "    <tr>\n",
       "      <th>9</th>\n",
       "      <td>21786204</td>\n",
       "      <td>TRAVEL</td>\n",
       "      <td>TRAIN</td>\n",
       "    </tr>\n",
       "  </tbody>\n",
       "</table>\n",
       "</div>"
      ],
      "text/plain": [
       "   bank_transaction_id bank_transaction_category bank_transaction_dataset\n",
       "0             21786195                    TRAVEL                    TRAIN\n",
       "1             21786196                    TRAVEL                    TRAIN\n",
       "2             21786197                    TRAVEL                    TRAIN\n",
       "3             21786198                    TRAVEL                    TRAIN\n",
       "4             21786199                    TRAVEL                    TRAIN\n",
       "5             21786200                    TRAVEL                    TRAIN\n",
       "6             21786201                    TRAVEL                    TRAIN\n",
       "7             21786202                    TRAVEL                    TRAIN\n",
       "8             21786203                    TRAVEL                    TRAIN\n",
       "9             21786204                    TRAVEL                    TRAIN"
      ]
     },
     "execution_count": 6,
     "metadata": {},
     "output_type": "execute_result"
    }
   ],
   "source": [
    "data_label.head(10) #Displaying the first 10 rows"
   ]
  },
  {
   "cell_type": "code",
   "execution_count": 21,
   "metadata": {},
   "outputs": [],
   "source": [
    "data_combined = pd.merge(data_label, data_feat) #combining the two datasets"
   ]
  },
  {
   "cell_type": "code",
   "execution_count": 22,
   "metadata": {
    "scrolled": false
   },
   "outputs": [
    {
     "data": {
      "text/html": [
       "<div>\n",
       "<style scoped>\n",
       "    .dataframe tbody tr th:only-of-type {\n",
       "        vertical-align: middle;\n",
       "    }\n",
       "\n",
       "    .dataframe tbody tr th {\n",
       "        vertical-align: top;\n",
       "    }\n",
       "\n",
       "    .dataframe thead th {\n",
       "        text-align: right;\n",
       "    }\n",
       "</style>\n",
       "<table border=\"1\" class=\"dataframe\">\n",
       "  <thead>\n",
       "    <tr style=\"text-align: right;\">\n",
       "      <th></th>\n",
       "      <th>bank_transaction_id</th>\n",
       "      <th>bank_transaction_category</th>\n",
       "      <th>bank_transaction_dataset</th>\n",
       "      <th>bank_transaction_description</th>\n",
       "      <th>bank_transaction_amount</th>\n",
       "      <th>bank_transaction_type</th>\n",
       "    </tr>\n",
       "  </thead>\n",
       "  <tbody>\n",
       "    <tr>\n",
       "      <th>0</th>\n",
       "      <td>21786195</td>\n",
       "      <td>TRAVEL</td>\n",
       "      <td>TRAIN</td>\n",
       "      <td>citylink</td>\n",
       "      <td>-13.80</td>\n",
       "      <td>MPO</td>\n",
       "    </tr>\n",
       "    <tr>\n",
       "      <th>1</th>\n",
       "      <td>21786196</td>\n",
       "      <td>TRAVEL</td>\n",
       "      <td>TRAIN</td>\n",
       "      <td>citylink</td>\n",
       "      <td>-13.14</td>\n",
       "      <td>DEB</td>\n",
       "    </tr>\n",
       "    <tr>\n",
       "      <th>2</th>\n",
       "      <td>21786197</td>\n",
       "      <td>TRAVEL</td>\n",
       "      <td>TRAIN</td>\n",
       "      <td>1Jul19 OYSTER</td>\n",
       "      <td>-36.98</td>\n",
       "      <td>DEB</td>\n",
       "    </tr>\n",
       "    <tr>\n",
       "      <th>3</th>\n",
       "      <td>21786198</td>\n",
       "      <td>TRAVEL</td>\n",
       "      <td>TRAIN</td>\n",
       "      <td>travelodge</td>\n",
       "      <td>-75.73</td>\n",
       "      <td>MPO</td>\n",
       "    </tr>\n",
       "    <tr>\n",
       "      <th>4</th>\n",
       "      <td>21786199</td>\n",
       "      <td>TRAVEL</td>\n",
       "      <td>TRAIN</td>\n",
       "      <td>6Jul19 RINGGO</td>\n",
       "      <td>-37.86</td>\n",
       "      <td>CSH</td>\n",
       "    </tr>\n",
       "    <tr>\n",
       "      <th>5</th>\n",
       "      <td>21786200</td>\n",
       "      <td>TRAVEL</td>\n",
       "      <td>TRAIN</td>\n",
       "      <td>SUNDRY DEBIT CONTACTLESS CAMDEN PARKING</td>\n",
       "      <td>-34.79</td>\n",
       "      <td>DEB</td>\n",
       "    </tr>\n",
       "    <tr>\n",
       "      <th>6</th>\n",
       "      <td>21786201</td>\n",
       "      <td>TRAVEL</td>\n",
       "      <td>TRAIN</td>\n",
       "      <td>stgcoach</td>\n",
       "      <td>-7.26</td>\n",
       "      <td>DEB</td>\n",
       "    </tr>\n",
       "    <tr>\n",
       "      <th>7</th>\n",
       "      <td>21786202</td>\n",
       "      <td>TRAVEL</td>\n",
       "      <td>TRAIN</td>\n",
       "      <td>trainline</td>\n",
       "      <td>-26.71</td>\n",
       "      <td>DEB</td>\n",
       "    </tr>\n",
       "    <tr>\n",
       "      <th>8</th>\n",
       "      <td>21786203</td>\n",
       "      <td>TRAVEL</td>\n",
       "      <td>TRAIN</td>\n",
       "      <td>Fin: CMT UK LTD  Cash at Transact</td>\n",
       "      <td>-36.25</td>\n",
       "      <td>CSH</td>\n",
       "    </tr>\n",
       "    <tr>\n",
       "      <th>9</th>\n",
       "      <td>21786204</td>\n",
       "      <td>TRAVEL</td>\n",
       "      <td>TRAIN</td>\n",
       "      <td>OYSTER</td>\n",
       "      <td>-21.80</td>\n",
       "      <td>DEB</td>\n",
       "    </tr>\n",
       "  </tbody>\n",
       "</table>\n",
       "</div>"
      ],
      "text/plain": [
       "   bank_transaction_id bank_transaction_category bank_transaction_dataset  \\\n",
       "0             21786195                    TRAVEL                    TRAIN   \n",
       "1             21786196                    TRAVEL                    TRAIN   \n",
       "2             21786197                    TRAVEL                    TRAIN   \n",
       "3             21786198                    TRAVEL                    TRAIN   \n",
       "4             21786199                    TRAVEL                    TRAIN   \n",
       "5             21786200                    TRAVEL                    TRAIN   \n",
       "6             21786201                    TRAVEL                    TRAIN   \n",
       "7             21786202                    TRAVEL                    TRAIN   \n",
       "8             21786203                    TRAVEL                    TRAIN   \n",
       "9             21786204                    TRAVEL                    TRAIN   \n",
       "\n",
       "              bank_transaction_description  bank_transaction_amount  \\\n",
       "0                                 citylink                   -13.80   \n",
       "1                                 citylink                   -13.14   \n",
       "2                            1Jul19 OYSTER                   -36.98   \n",
       "3                               travelodge                   -75.73   \n",
       "4                            6Jul19 RINGGO                   -37.86   \n",
       "5  SUNDRY DEBIT CONTACTLESS CAMDEN PARKING                   -34.79   \n",
       "6                                 stgcoach                    -7.26   \n",
       "7                                trainline                   -26.71   \n",
       "8        Fin: CMT UK LTD  Cash at Transact                   -36.25   \n",
       "9                                   OYSTER                   -21.80   \n",
       "\n",
       "  bank_transaction_type  \n",
       "0                   MPO  \n",
       "1                   DEB  \n",
       "2                   DEB  \n",
       "3                   MPO  \n",
       "4                   CSH  \n",
       "5                   DEB  \n",
       "6                   DEB  \n",
       "7                   DEB  \n",
       "8                   CSH  \n",
       "9                   DEB  "
      ]
     },
     "execution_count": 22,
     "metadata": {},
     "output_type": "execute_result"
    }
   ],
   "source": [
    "data_combined.head(10)"
   ]
  },
  {
   "cell_type": "markdown",
   "metadata": {},
   "source": [
    "Let us first clean the dataset by removing any duplicate rows or null values:"
   ]
  },
  {
   "cell_type": "code",
   "execution_count": 26,
   "metadata": {},
   "outputs": [
    {
     "name": "stdout",
     "output_type": "stream",
     "text": [
      "Number of duplicate rows:  (0, 6)\n"
     ]
    }
   ],
   "source": [
    "duplicate_rows_df = data_combined[data_combined.duplicated()] #check for duplicate \n",
    "print('Number of duplicate rows: ', duplicate_rows_df.shape) "
   ]
  },
  {
   "cell_type": "markdown",
   "metadata": {},
   "source": [
    "The above tells us there is no duplicate rows to remove. Next, checking for null values:"
   ]
  },
  {
   "cell_type": "code",
   "execution_count": 27,
   "metadata": {},
   "outputs": [
    {
     "name": "stdout",
     "output_type": "stream",
     "text": [
      "bank_transaction_id             0\n",
      "bank_transaction_category       0\n",
      "bank_transaction_dataset        0\n",
      "bank_transaction_description    0\n",
      "bank_transaction_amount         0\n",
      "bank_transaction_type           0\n",
      "dtype: int64\n"
     ]
    }
   ],
   "source": [
    "print(data_combined.isnull().sum())"
   ]
  },
  {
   "cell_type": "markdown",
   "metadata": {},
   "source": [
    "Clearly, there is also no null values in any of the columns, which is great news."
   ]
  },
  {
   "cell_type": "code",
   "execution_count": 28,
   "metadata": {},
   "outputs": [
    {
     "data": {
      "text/html": [
       "<div>\n",
       "<style scoped>\n",
       "    .dataframe tbody tr th:only-of-type {\n",
       "        vertical-align: middle;\n",
       "    }\n",
       "\n",
       "    .dataframe tbody tr th {\n",
       "        vertical-align: top;\n",
       "    }\n",
       "\n",
       "    .dataframe thead th {\n",
       "        text-align: right;\n",
       "    }\n",
       "</style>\n",
       "<table border=\"1\" class=\"dataframe\">\n",
       "  <thead>\n",
       "    <tr style=\"text-align: right;\">\n",
       "      <th></th>\n",
       "      <th>bank_transaction_id</th>\n",
       "      <th>bank_transaction_amount</th>\n",
       "    </tr>\n",
       "  </thead>\n",
       "  <tbody>\n",
       "    <tr>\n",
       "      <th>count</th>\n",
       "      <td>1.250000e+04</td>\n",
       "      <td>12500.000000</td>\n",
       "    </tr>\n",
       "    <tr>\n",
       "      <th>mean</th>\n",
       "      <td>2.226077e+07</td>\n",
       "      <td>-19.613017</td>\n",
       "    </tr>\n",
       "    <tr>\n",
       "      <th>std</th>\n",
       "      <td>9.391952e+05</td>\n",
       "      <td>15.060147</td>\n",
       "    </tr>\n",
       "    <tr>\n",
       "      <th>min</th>\n",
       "      <td>2.178620e+07</td>\n",
       "      <td>-102.590000</td>\n",
       "    </tr>\n",
       "    <tr>\n",
       "      <th>25%</th>\n",
       "      <td>2.178932e+07</td>\n",
       "      <td>-28.022500</td>\n",
       "    </tr>\n",
       "    <tr>\n",
       "      <th>50%</th>\n",
       "      <td>2.179244e+07</td>\n",
       "      <td>-19.040000</td>\n",
       "    </tr>\n",
       "    <tr>\n",
       "      <th>75%</th>\n",
       "      <td>2.179557e+07</td>\n",
       "      <td>-4.687500</td>\n",
       "    </tr>\n",
       "    <tr>\n",
       "      <th>max</th>\n",
       "      <td>2.414033e+07</td>\n",
       "      <td>-0.320000</td>\n",
       "    </tr>\n",
       "  </tbody>\n",
       "</table>\n",
       "</div>"
      ],
      "text/plain": [
       "       bank_transaction_id  bank_transaction_amount\n",
       "count         1.250000e+04             12500.000000\n",
       "mean          2.226077e+07               -19.613017\n",
       "std           9.391952e+05                15.060147\n",
       "min           2.178620e+07              -102.590000\n",
       "25%           2.178932e+07               -28.022500\n",
       "50%           2.179244e+07               -19.040000\n",
       "75%           2.179557e+07                -4.687500\n",
       "max           2.414033e+07                -0.320000"
      ]
     },
     "execution_count": 28,
     "metadata": {},
     "output_type": "execute_result"
    }
   ],
   "source": [
    "data_combined.describe()"
   ]
  },
  {
   "cell_type": "markdown",
   "metadata": {},
   "source": [
    "We can see from the cell above that there is a mean bank transaction amount of 19, with a standard deviation of around 15."
   ]
  },
  {
   "cell_type": "code",
   "execution_count": 25,
   "metadata": {},
   "outputs": [
    {
     "data": {
      "text/html": [
       "<div>\n",
       "<style scoped>\n",
       "    .dataframe tbody tr th:only-of-type {\n",
       "        vertical-align: middle;\n",
       "    }\n",
       "\n",
       "    .dataframe tbody tr th {\n",
       "        vertical-align: top;\n",
       "    }\n",
       "\n",
       "    .dataframe thead th {\n",
       "        text-align: right;\n",
       "    }\n",
       "</style>\n",
       "<table border=\"1\" class=\"dataframe\">\n",
       "  <thead>\n",
       "    <tr style=\"text-align: right;\">\n",
       "      <th></th>\n",
       "      <th>bank_transaction_category</th>\n",
       "      <th>bank_transaction_dataset</th>\n",
       "      <th>bank_transaction_description</th>\n",
       "      <th>bank_transaction_type</th>\n",
       "    </tr>\n",
       "  </thead>\n",
       "  <tbody>\n",
       "    <tr>\n",
       "      <th>count</th>\n",
       "      <td>12500</td>\n",
       "      <td>12500</td>\n",
       "      <td>12500</td>\n",
       "      <td>12500</td>\n",
       "    </tr>\n",
       "    <tr>\n",
       "      <th>unique</th>\n",
       "      <td>5</td>\n",
       "      <td>2</td>\n",
       "      <td>9474</td>\n",
       "      <td>6</td>\n",
       "    </tr>\n",
       "    <tr>\n",
       "      <th>top</th>\n",
       "      <td>ACCOMMODATION_AND_MEALS</td>\n",
       "      <td>TRAIN</td>\n",
       "      <td>nan</td>\n",
       "      <td>DEB</td>\n",
       "    </tr>\n",
       "    <tr>\n",
       "      <th>freq</th>\n",
       "      <td>3765</td>\n",
       "      <td>10000</td>\n",
       "      <td>131</td>\n",
       "      <td>4678</td>\n",
       "    </tr>\n",
       "  </tbody>\n",
       "</table>\n",
       "</div>"
      ],
      "text/plain": [
       "       bank_transaction_category bank_transaction_dataset  \\\n",
       "count                      12500                    12500   \n",
       "unique                         5                        2   \n",
       "top      ACCOMMODATION_AND_MEALS                    TRAIN   \n",
       "freq                        3765                    10000   \n",
       "\n",
       "       bank_transaction_description bank_transaction_type  \n",
       "count                         12500                 12500  \n",
       "unique                         9474                     6  \n",
       "top                             nan                   DEB  \n",
       "freq                            131                  4678  "
      ]
     },
     "execution_count": 25,
     "metadata": {},
     "output_type": "execute_result"
    }
   ],
   "source": [
    "data_combined.describe(include=np.object) #Displays descriptive statistics for columns with text strings"
   ]
  },
  {
   "cell_type": "markdown",
   "metadata": {},
   "source": [
    "We can see here that there are 5 unique bank transaction categories (Travel, Accommodation and meals, Bank or finance charges, Motor expenses, insurance), with accommodation and meals coming up the most frequently. \n",
    "As for the bank transaction description, we can see that almost all of them are unique, with 'NaN' coming up the most often. This is unsurprising, as we would expect people to enter in different descriptions, and we would also expect the most common frequent response would be not to enter anything. \n",
    "Regarding the bank transaction type, we can see that there are 6 unique types (MPO, DEB, CSH, CHG, DD, FPO) with debit card coming up most frequently at around one third of the time. \n",
    "\n",
    "Let us do a histogram plot for each of: bank transaction data, bank transaction amount, and bank transaction type."
   ]
  },
  {
   "cell_type": "code",
   "execution_count": 34,
   "metadata": {},
   "outputs": [
    {
     "data": {
      "text/plain": [
       "<matplotlib.axes._subplots.AxesSubplot at 0x1b77b297460>"
      ]
     },
     "execution_count": 34,
     "metadata": {},
     "output_type": "execute_result"
    },
    {
     "data": {
      "image/png": "[encoded data removed]",
      "text/plain": [
       "<Figure size 432x288 with 1 Axes>"
      ]
     },
     "metadata": {
      "needs_background": "light"
     },
     "output_type": "display_data"
    }
   ],
   "source": [
    "data_combined.groupby('bank_transaction_amount').count().plot()"
   ]
  },
  {
   "cell_type": "code",
   "execution_count": 36,
   "metadata": {},
   "outputs": [
    {
     "data": {
      "text/plain": [
       "array([[<matplotlib.axes._subplots.AxesSubplot object at 0x000001B76FBC4040>,\n",
       "        <matplotlib.axes._subplots.AxesSubplot object at 0x000001B76FE433A0>]],\n",
       "      dtype=object)"
      ]
     },
     "execution_count": 36,
     "metadata": {},
     "output_type": "execute_result"
    },
    {
     "data": {
      "image/png": "[encoded data removed]",
      "text/plain": [
       "<Figure size 432x288 with 2 Axes>"
      ]
     },
     "metadata": {
      "needs_background": "light"
     },
     "output_type": "display_data"
    }
   ],
   "source": [
    "data_combined.hist(bins = 20)"
   ]
  },
  {
   "cell_type": "markdown",
   "metadata": {},
   "source": [
    "From the above histogram and line plot, we can see that for the bank transaction amount, there are high amounts of transactions that are low in value (sub 10 pounds). Surprisingly, there is a steep drop from 10 pounds onwards, peaking again at around 25 pounds. This suggests that people will most commonly either transfer a tiny amount of money (<10), or a 'medium' amount of money (around 25 pounds). Higher transfer amounts over 50 then slowly decrease in frequency with magnitude, which is to be expected.\n",
    "\n",
    "Lets break this down into further categories:"
   ]
  },
  {
   "cell_type": "code",
   "execution_count": 63,
   "metadata": {},
   "outputs": [
    {
     "data": {
      "text/plain": [
       "<matplotlib.axes._subplots.AxesSubplot at 0x1b7079194c0>"
      ]
     },
     "execution_count": 63,
     "metadata": {},
     "output_type": "execute_result"
    },
    {
     "data": {
      "image/png": "[encoded data removed]",
      "text/plain": [
       "<Figure size 432x288 with 1 Axes>"
      ]
     },
     "metadata": {
      "needs_background": "light"
     },
     "output_type": "display_data"
    }
   ],
   "source": [
    "plt.title('Category against frequency')\n",
    "plt.ylabel('Freq.')\n",
    "data_combined['bank_transaction_category'].value_counts().plot(kind='bar')"
   ]
  },
  {
   "cell_type": "markdown",
   "metadata": {},
   "source": [
    "We can see from the above that accommodation and meals come up the most often, followed by travel, bank or finance, motor expenses, then insurance. "
   ]
  },
  {
   "cell_type": "code",
   "execution_count": 64,
   "metadata": {},
   "outputs": [
    {
     "data": {
      "text/plain": [
       "<matplotlib.axes._subplots.AxesSubplot at 0x1b707a9b790>"
      ]
     },
     "execution_count": 64,
     "metadata": {},
     "output_type": "execute_result"
    },
    {
     "data": {
      "image/png": "[encoded data removed]",
      "text/plain": [
       "<Figure size 360x360 with 1 Axes>"
      ]
     },
     "metadata": {
      "needs_background": "light"
     },
     "output_type": "display_data"
    }
   ],
   "source": [
    "plt.title('Category = ACCOMMODATION_AND_MEALS, histogram of transaction type')\n",
    "plt.ylabel('Freq.')\n",
    "data_combined.loc[data_combined[\"bank_transaction_category\"] == \"ACCOMMODATION_AND_MEALS\", \"bank_transaction_type\"].value_counts().nlargest(6).plot(kind='bar', figsize=(5,5))\n"
   ]
  },
  {
   "cell_type": "code",
   "execution_count": 65,
   "metadata": {},
   "outputs": [
    {
     "data": {
      "text/plain": [
       "<matplotlib.axes._subplots.AxesSubplot at 0x1b707af0fd0>"
      ]
     },
     "execution_count": 65,
     "metadata": {},
     "output_type": "execute_result"
    },
    {
     "data": {
      "image/png": "[encoded data removed]",
      "text/plain": [
       "<Figure size 360x360 with 1 Axes>"
      ]
     },
     "metadata": {
      "needs_background": "light"
     },
     "output_type": "display_data"
    }
   ],
   "source": [
    "plt.title('Category = TRAVEL, histogram of transaction type')\n",
    "plt.ylabel('Freq.')\n",
    "data_combined.loc[data_combined[\"bank_transaction_category\"] == \"TRAVEL\", \"bank_transaction_type\"].value_counts().nlargest(6).plot(kind='bar', figsize=(5,5))\n"
   ]
  },
  {
   "cell_type": "code",
   "execution_count": 66,
   "metadata": {},
   "outputs": [
    {
     "data": {
      "text/plain": [
       "<matplotlib.axes._subplots.AxesSubplot at 0x1b708b044f0>"
      ]
     },
     "execution_count": 66,
     "metadata": {},
     "output_type": "execute_result"
    },
    {
     "data": {
      "image/png": "[encoded data removed]",
      "text/plain": [
       "<Figure size 360x360 with 1 Axes>"
      ]
     },
     "metadata": {
      "needs_background": "light"
     },
     "output_type": "display_data"
    }
   ],
   "source": [
    "plt.title('Category = BANK_OR_FINANCE_CHARGES, histogram of transaction type')\n",
    "plt.ylabel('Freq.')\n",
    "data_combined.loc[data_combined[\"bank_transaction_category\"] == \"BANK_OR_FINANCE_CHARGES\", \"bank_transaction_type\"].value_counts().nlargest(6).plot(kind='bar', figsize=(5,5))\n"
   ]
  },
  {
   "cell_type": "code",
   "execution_count": 67,
   "metadata": {},
   "outputs": [
    {
     "data": {
      "text/plain": [
       "<matplotlib.axes._subplots.AxesSubplot at 0x1b708b4bbe0>"
      ]
     },
     "execution_count": 67,
     "metadata": {},
     "output_type": "execute_result"
    },
    {
     "data": {
      "image/png": "[encoded data removed]",
      "text/plain": [
       "<Figure size 360x360 with 1 Axes>"
      ]
     },
     "metadata": {
      "needs_background": "light"
     },
     "output_type": "display_data"
    }
   ],
   "source": [
    "plt.title('Category = MOTOR_EXPENSES, histogram of transaction type')\n",
    "plt.ylabel('Freq.')\n",
    "data_combined.loc[data_combined[\"bank_transaction_category\"] == \"MOTOR_EXPENSES\", \"bank_transaction_type\"].value_counts().nlargest(6).plot(kind='bar', figsize=(5,5))\n"
   ]
  },
  {
   "cell_type": "code",
   "execution_count": 68,
   "metadata": {},
   "outputs": [
    {
     "data": {
      "text/plain": [
       "<matplotlib.axes._subplots.AxesSubplot at 0x1b708b917f0>"
      ]
     },
     "execution_count": 68,
     "metadata": {},
     "output_type": "execute_result"
    },
    {
     "data": {
      "image/png": "[encoded data removed]",
      "text/plain": [
       "<Figure size 360x360 with 1 Axes>"
      ]
     },
     "metadata": {
      "needs_background": "light"
     },
     "output_type": "display_data"
    }
   ],
   "source": [
    "plt.title('Category = INSURANCE, histogram of transaction type')\n",
    "plt.ylabel('Freq.')\n",
    "data_combined.loc[data_combined[\"bank_transaction_category\"] == \"INSURANCE\", \"bank_transaction_type\"].value_counts().nlargest(6).plot(kind='bar', figsize=(5,5))\n"
   ]
  },
  {
   "cell_type": "markdown",
   "metadata": {},
   "source": [
    "From the above plots, we can see that debit card is the most common type of transaction type used for motor expenses, accomodation and travel, whilst for insurance it is direct debit by far, and for bank or finances charges it was simply 'CHG'/charge. \n",
    "\n",
    "Travel and Accommodation and Meals had similar histograms, with cash coming up as 2nd most frequent type in both. \n",
    "Bank and finance charges seemed to be the odd one out, as it had 'CHG' being the highest in frequency by far, which rarely is seen in other categories. \n",
    "\n",
    "Motor expenses follows a similar trend to travel and accomodation/meals, having debit card as the highest in frequency, however 'MPO'/mobile payment online is the second most frequent, with cash coming third.\n",
    "\n",
    "Insurance is also an odd one out, with 'DD'/direct debit being the highest in frequency, which is rarely seen in the other category types, with MPO following second.\n",
    "\n",
    "We can also conclude that 'FPO' seems to be used the least out of all the categories, always being at least third or lower down in frequency across all the categories.\n",
    "\n",
    "\n",
    "Lets now look into the difference in transaction amounts across the different categories:"
   ]
  },
  {
   "cell_type": "code",
   "execution_count": 89,
   "metadata": {},
   "outputs": [
    {
     "data": {
      "text/plain": [
       "<matplotlib.axes._subplots.AxesSubplot at 0x1b7435b3220>"
      ]
     },
     "execution_count": 89,
     "metadata": {},
     "output_type": "execute_result"
    },
    {
     "data": {
      "image/png": "[encoded data removed]",
      "text/plain": [
       "<Figure size 432x288 with 6 Axes>"
      ]
     },
     "metadata": {
      "needs_background": "light"
     },
     "output_type": "display_data"
    }
   ],
   "source": [
    "fig, axes = plt.subplots(nrows=2, ncols=3)\n",
    "data_combined.loc[data_combined[\"bank_transaction_category\"] == \"ACCOMMODATION_AND_MEALS\", \"bank_transaction_amount\"].hist(ax=axes[0,0])\n",
    "data_combined.loc[data_combined[\"bank_transaction_category\"] == \"TRAVEL\", \"bank_transaction_amount\"].hist(ax=axes[0,1])\n",
    "data_combined.loc[data_combined[\"bank_transaction_category\"] == \"BANK_OR_FINANCE_CHARGES\", \"bank_transaction_amount\"].hist(ax=axes[0,2])\n",
    "data_combined.loc[data_combined[\"bank_transaction_category\"] == \"MOTOR_EXPENSES\", \"bank_transaction_amount\"].hist(ax=axes[1,0])\n",
    "data_combined.loc[data_combined[\"bank_transaction_category\"] == \"INSURANCE\", \"bank_transaction_amount\"].hist(ax=axes[1,1])"
   ]
  },
  {
   "cell_type": "markdown",
   "metadata": {},
   "source": [
    "Accommodation and Meals - seems to be similar to a Guassian distribution, with mean at 20 pounds, and std. of around 10 pounds.\n",
    "\n",
    "Travel - more of a skewed Gaussian to the right, with mean at 30 pounds.\n",
    "\n",
    "Bank or finance charges - Gaussian-like, with mean at 2 pounds.\n",
    "\n",
    "Motor Expenses - Very similar to the accommodation and meals histogram\n",
    "\n",
    "Insurance - Gaussian centered at 25 pounds, again shares similarity to motor expenses and accommodation/meals"
   ]
  },
  {
   "cell_type": "code",
   "execution_count": 95,
   "metadata": {},
   "outputs": [
    {
     "data": {
      "text/html": [
       "<div>\n",
       "<style scoped>\n",
       "    .dataframe tbody tr th:only-of-type {\n",
       "        vertical-align: middle;\n",
       "    }\n",
       "\n",
       "    .dataframe tbody tr th {\n",
       "        vertical-align: top;\n",
       "    }\n",
       "\n",
       "    .dataframe thead th {\n",
       "        text-align: right;\n",
       "    }\n",
       "</style>\n",
       "<table border=\"1\" class=\"dataframe\">\n",
       "  <thead>\n",
       "    <tr style=\"text-align: right;\">\n",
       "      <th></th>\n",
       "      <th>bank_transaction_id</th>\n",
       "      <th>bank_transaction_amount</th>\n",
       "    </tr>\n",
       "  </thead>\n",
       "  <tbody>\n",
       "    <tr>\n",
       "      <th>count</th>\n",
       "      <td>1.000000e+04</td>\n",
       "      <td>10000.000000</td>\n",
       "    </tr>\n",
       "    <tr>\n",
       "      <th>mean</th>\n",
       "      <td>2.179119e+07</td>\n",
       "      <td>-20.073671</td>\n",
       "    </tr>\n",
       "    <tr>\n",
       "      <th>std</th>\n",
       "      <td>2.886896e+03</td>\n",
       "      <td>15.475279</td>\n",
       "    </tr>\n",
       "    <tr>\n",
       "      <th>min</th>\n",
       "      <td>2.178620e+07</td>\n",
       "      <td>-102.590000</td>\n",
       "    </tr>\n",
       "    <tr>\n",
       "      <th>25%</th>\n",
       "      <td>2.178869e+07</td>\n",
       "      <td>-28.582500</td>\n",
       "    </tr>\n",
       "    <tr>\n",
       "      <th>50%</th>\n",
       "      <td>2.179119e+07</td>\n",
       "      <td>-19.610000</td>\n",
       "    </tr>\n",
       "    <tr>\n",
       "      <th>75%</th>\n",
       "      <td>2.179369e+07</td>\n",
       "      <td>-4.490000</td>\n",
       "    </tr>\n",
       "    <tr>\n",
       "      <th>max</th>\n",
       "      <td>2.179619e+07</td>\n",
       "      <td>-0.320000</td>\n",
       "    </tr>\n",
       "  </tbody>\n",
       "</table>\n",
       "</div>"
      ],
      "text/plain": [
       "       bank_transaction_id  bank_transaction_amount\n",
       "count         1.000000e+04             10000.000000\n",
       "mean          2.179119e+07               -20.073671\n",
       "std           2.886896e+03                15.475279\n",
       "min           2.178620e+07              -102.590000\n",
       "25%           2.178869e+07               -28.582500\n",
       "50%           2.179119e+07               -19.610000\n",
       "75%           2.179369e+07                -4.490000\n",
       "max           2.179619e+07                -0.320000"
      ]
     },
     "execution_count": 95,
     "metadata": {},
     "output_type": "execute_result"
    }
   ],
   "source": [
    "data_combined.loc[data_combined[\"bank_transaction_dataset\"] == 'TRAIN'].describe()"
   ]
  },
  {
   "cell_type": "code",
   "execution_count": 97,
   "metadata": {},
   "outputs": [
    {
     "data": {
      "text/html": [
       "<div>\n",
       "<style scoped>\n",
       "    .dataframe tbody tr th:only-of-type {\n",
       "        vertical-align: middle;\n",
       "    }\n",
       "\n",
       "    .dataframe tbody tr th {\n",
       "        vertical-align: top;\n",
       "    }\n",
       "\n",
       "    .dataframe thead th {\n",
       "        text-align: right;\n",
       "    }\n",
       "</style>\n",
       "<table border=\"1\" class=\"dataframe\">\n",
       "  <thead>\n",
       "    <tr style=\"text-align: right;\">\n",
       "      <th></th>\n",
       "      <th>bank_transaction_id</th>\n",
       "      <th>bank_transaction_amount</th>\n",
       "    </tr>\n",
       "  </thead>\n",
       "  <tbody>\n",
       "    <tr>\n",
       "      <th>count</th>\n",
       "      <td>2.500000e+03</td>\n",
       "      <td>2500.000000</td>\n",
       "    </tr>\n",
       "    <tr>\n",
       "      <th>mean</th>\n",
       "      <td>2.413908e+07</td>\n",
       "      <td>-17.770400</td>\n",
       "    </tr>\n",
       "    <tr>\n",
       "      <th>std</th>\n",
       "      <td>7.218322e+02</td>\n",
       "      <td>13.112316</td>\n",
       "    </tr>\n",
       "    <tr>\n",
       "      <th>min</th>\n",
       "      <td>2.413783e+07</td>\n",
       "      <td>-73.770000</td>\n",
       "    </tr>\n",
       "    <tr>\n",
       "      <th>25%</th>\n",
       "      <td>2.413845e+07</td>\n",
       "      <td>-25.965000</td>\n",
       "    </tr>\n",
       "    <tr>\n",
       "      <th>50%</th>\n",
       "      <td>2.413908e+07</td>\n",
       "      <td>-16.805000</td>\n",
       "    </tr>\n",
       "    <tr>\n",
       "      <th>75%</th>\n",
       "      <td>2.413970e+07</td>\n",
       "      <td>-5.207500</td>\n",
       "    </tr>\n",
       "    <tr>\n",
       "      <th>max</th>\n",
       "      <td>2.414033e+07</td>\n",
       "      <td>-0.430000</td>\n",
       "    </tr>\n",
       "  </tbody>\n",
       "</table>\n",
       "</div>"
      ],
      "text/plain": [
       "       bank_transaction_id  bank_transaction_amount\n",
       "count         2.500000e+03              2500.000000\n",
       "mean          2.413908e+07               -17.770400\n",
       "std           7.218322e+02                13.112316\n",
       "min           2.413783e+07               -73.770000\n",
       "25%           2.413845e+07               -25.965000\n",
       "50%           2.413908e+07               -16.805000\n",
       "75%           2.413970e+07                -5.207500\n",
       "max           2.414033e+07                -0.430000"
      ]
     },
     "execution_count": 97,
     "metadata": {},
     "output_type": "execute_result"
    }
   ],
   "source": [
    "data_combined.loc[data_combined[\"bank_transaction_dataset\"] == 'VAL'].describe()"
   ]
  },
  {
   "cell_type": "code",
   "execution_count": 103,
   "metadata": {},
   "outputs": [
    {
     "data": {
      "text/plain": [
       "<matplotlib.axes._subplots.AxesSubplot at 0x1b743973940>"
      ]
     },
     "execution_count": 103,
     "metadata": {},
     "output_type": "execute_result"
    },
    {
     "data": {
      "image/png": "[encoded data removed]",
      "text/plain": [
       "<Figure size 720x360 with 1 Axes>"
      ]
     },
     "metadata": {
      "needs_background": "light"
     },
     "output_type": "display_data"
    }
   ],
   "source": [
    "plt.title('Category against frequency for VAL set')\n",
    "plt.ylabel('Freq.')\n",
    "data_combined.loc[data_combined[\"bank_transaction_dataset\"] == 'VAL', 'bank_transaction_category'].value_counts().nlargest(40).plot(kind='bar', figsize=(10,5))"
   ]
  },
  {
   "cell_type": "code",
   "execution_count": 104,
   "metadata": {},
   "outputs": [
    {
     "data": {
      "text/plain": [
       "<matplotlib.axes._subplots.AxesSubplot at 0x1b74399a280>"
      ]
     },
     "execution_count": 104,
     "metadata": {},
     "output_type": "execute_result"
    },
    {
     "data": {
      "image/png": "[encoded data removed]",
      "text/plain": [
       "<Figure size 720x360 with 1 Axes>"
      ]
     },
     "metadata": {
      "needs_background": "light"
     },
     "output_type": "display_data"
    }
   ],
   "source": [
    "plt.title('Category against frequency for TRAIN set')\n",
    "plt.ylabel('Freq.')\n",
    "data_combined.loc[data_combined[\"bank_transaction_dataset\"] == 'TRAIN', 'bank_transaction_category'].value_counts().nlargest(40).plot(kind='bar', figsize=(10,5))"
   ]
  },
  {
   "cell_type": "markdown",
   "metadata": {},
   "source": [
    "From the above plots and table comparisons, we can see that the training and validation sets are roughly similar in mean, standard deviation, and frequency (proportion wise)."
   ]
  },
  {
   "cell_type": "code",
   "execution_count": null,
   "metadata": {},
   "outputs": [],
   "source": []
  }
 ],
 "metadata": {
  "kernelspec": {
   "display_name": "Python 3",
   "language": "python",
   "name": "python3"
  },
  "language_info": {
   "codemirror_mode": {
    "name": "ipython",
    "version": 3
   },
   "file_extension": ".py",
   "mimetype": "text/x-python",
   "name": "python",
   "nbconvert_exporter": "python",
   "pygments_lexer": "ipython3",
   "version": "3.8.3"
  }
 },
 "nbformat": 4,
 "nbformat_minor": 4
}
